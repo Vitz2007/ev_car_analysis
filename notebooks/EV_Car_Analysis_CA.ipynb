{
  "nbformat": 4,
  "nbformat_minor": 0,
  "metadata": {
    "colab": {
      "name": "EV Car Analysis CA.ipynb",
      "provenance": [],
      "collapsed_sections": [],
      "authorship_tag": "ABX9TyO6PbfV5VLfWAGjLUBYlATE",
      "include_colab_link": true
    },
    "kernelspec": {
      "name": "python3",
      "display_name": "Python 3"
    },
    "language_info": {
      "name": "python"
    }
  },
  "cells": [
    {
      "cell_type": "markdown",
      "metadata": {
        "id": "view-in-github",
        "colab_type": "text"
      },
      "source": [
        "<a href=\"https://colab.research.google.com/github/Vitz2007/ev_car_analysis/blob/main/EV_Car_Analysis_CA.ipynb\" target=\"_parent\"><img src=\"https://colab.research.google.com/assets/colab-badge.svg\" alt=\"Open In Colab\"/></a>"
      ]
    },
    {
      "cell_type": "code",
      "metadata": {
        "colab": {
          "base_uri": "https://localhost:8080/"
        },
        "id": "-HtHqZrfrSZ7",
        "outputId": "f512ff9d-2a7c-4da3-c2a4-f52ae9e80fe2"
      },
      "source": [
        "#Mount GDrive to access file\n",
        "from google.colab import drive\n",
        "drive.mount('/content/drive')"
      ],
      "execution_count": 2,
      "outputs": [
        {
          "output_type": "stream",
          "text": [
            "Drive already mounted at /content/drive; to attempt to forcibly remount, call drive.mount(\"/content/drive\", force_remount=True).\n"
          ],
          "name": "stdout"
        }
      ]
    },
    {
      "cell_type": "code",
      "metadata": {
        "id": "ilJVZ3gtvgwq"
      },
      "source": [
        "#Import common packages\n",
        "import pandas as pd\n",
        "import numpy as np\n",
        "import matplotlib.pyplot as plt\n",
        "import seaborn as sns\n",
        "from sklearn.preprocessing import LabelEncoder\n",
        "from sklearn.linear_model import LassoCV, Lasso\n",
        "from sklearn.model_selection import train_test_split\n",
        "from sklearn.linear_model import LinearRegression"
      ],
      "execution_count": 3,
      "outputs": []
    },
    {
      "cell_type": "code",
      "metadata": {
        "colab": {
          "base_uri": "https://localhost:8080/"
        },
        "id": "cBF8bkSvr15U",
        "outputId": "854e4bf9-1735-4e21-83fa-51b8a163d4fd"
      },
      "source": [
        "#Import csv file\n",
        "ev_df = pd.read_csv('/content/drive/MyDrive/EV car registers/ca_ev_registrations_public.csv', low_memory=False)\n",
        "print(ev_df.head(20))"
      ],
      "execution_count": 4,
      "outputs": [
        {
          "output_type": "stream",
          "text": [
            "        Vehicle ID County GEOID  ... Geography    Vehicle Name\n",
            "0   CA-002-03597\\r        06099  ...    County  Chevrolet Volt\n",
            "1   CA-002-03598\\r        06105  ...    County     Nissan Leaf\n",
            "2   CA-002-03599\\r        06103  ...    County  Chevrolet Volt\n",
            "3   CA-002-03600\\r        06099  ...    County  Tesla Roadster\n",
            "4   CA-002-03601\\r        06099  ...    County  Tesla Roadster\n",
            "5   CA-002-03602\\r        06097  ...    County  Tesla Roadster\n",
            "6   CA-002-03603\\r        06097  ...    County  Tesla Roadster\n",
            "7   CA-002-03604\\r        06097  ...    County  Tesla Roadster\n",
            "8   CA-002-03605\\r        06097  ...    County  Tesla Roadster\n",
            "9   CA-002-03606\\r        06097  ...    County  Tesla Roadster\n",
            "10  CA-002-03607\\r        06097  ...    County  Tesla Roadster\n",
            "11  CA-002-03608\\r        06097  ...    County     Nissan Leaf\n",
            "12  CA-002-03609\\r        06097  ...    County     Nissan Leaf\n",
            "13  CA-002-03610\\r        06097  ...    County     Nissan Leaf\n",
            "14  CA-002-03611\\r        06097  ...    County     Nissan Leaf\n",
            "15  CA-002-03612\\r        06097  ...    County     Nissan Leaf\n",
            "16  CA-002-03613\\r        06097  ...    County     Nissan Leaf\n",
            "17  CA-002-03614\\r        06097  ...    County     Nissan Leaf\n",
            "18  CA-002-03615\\r        06097  ...    County     Nissan Leaf\n",
            "19  CA-002-03616\\r        06097  ...    County     Nissan Leaf\n",
            "\n",
            "[20 rows x 9 columns]\n"
          ],
          "name": "stdout"
        }
      ]
    },
    {
      "cell_type": "code",
      "metadata": {
        "colab": {
          "base_uri": "https://localhost:8080/"
        },
        "id": "58PZ8Xxiw1tw",
        "outputId": "3ca55040-14ab-4b4c-c4ce-efc8fa608e05"
      },
      "source": [
        "#Get overview of data\n",
        "print(ev_df.info())"
      ],
      "execution_count": 5,
      "outputs": [
        {
          "output_type": "stream",
          "text": [
            "<class 'pandas.core.frame.DataFrame'>\n",
            "RangeIndex: 2542443 entries, 0 to 2542442\n",
            "Data columns (total 9 columns):\n",
            " #   Column                        Dtype  \n",
            "---  ------                        -----  \n",
            " 0   Vehicle ID                    object \n",
            " 1   County GEOID                  object \n",
            " 2   Registration Valid Date       object \n",
            " 3   DMV ID                        int64  \n",
            " 4   DMV Snapshot                  object \n",
            " 5   Registration Expiration Date  float64\n",
            " 6   State Abbreviation            object \n",
            " 7   Geography                     object \n",
            " 8   Vehicle Name                  object \n",
            "dtypes: float64(1), int64(1), object(7)\n",
            "memory usage: 174.6+ MB\n",
            "None\n"
          ],
          "name": "stdout"
        }
      ]
    },
    {
      "cell_type": "code",
      "metadata": {
        "id": "PVM455MFxakL"
      },
      "source": [
        "#Drop unnecessary columns\n",
        "ev_df.drop(['DMV ID', 'DMV Snapshot', 'Registration Expiration Date', 'Geography'], axis=1, inplace=True)"
      ],
      "execution_count": 6,
      "outputs": []
    },
    {
      "cell_type": "code",
      "metadata": {
        "colab": {
          "base_uri": "https://localhost:8080/"
        },
        "id": "P4YjSdc-xlZc",
        "outputId": "77bb4985-c7ac-4dd8-916c-0a6065f02f26"
      },
      "source": [
        "#Find any NaNs\n",
        "ev_df_nulls = ev_df.isnull().sum()\n",
        "print(ev_df_nulls)"
      ],
      "execution_count": 7,
      "outputs": [
        {
          "output_type": "stream",
          "text": [
            "Vehicle ID                 0\n",
            "County GEOID               0\n",
            "Registration Valid Date    0\n",
            "State Abbreviation         0\n",
            "Vehicle Name               0\n",
            "dtype: int64\n"
          ],
          "name": "stdout"
        }
      ]
    },
    {
      "cell_type": "code",
      "metadata": {
        "colab": {
          "base_uri": "https://localhost:8080/"
        },
        "id": "8pmCeKDzxln9",
        "outputId": "63215a9a-5d60-4af0-c1f7-191003319b4b"
      },
      "source": [
        "#Get min, max, mean, etc\n",
        "print(ev_df_nulls.describe())"
      ],
      "execution_count": 8,
      "outputs": [
        {
          "output_type": "stream",
          "text": [
            "count    5.0\n",
            "mean     0.0\n",
            "std      0.0\n",
            "min      0.0\n",
            "25%      0.0\n",
            "50%      0.0\n",
            "75%      0.0\n",
            "max      0.0\n",
            "dtype: float64\n"
          ],
          "name": "stdout"
        }
      ]
    },
    {
      "cell_type": "code",
      "metadata": {
        "colab": {
          "base_uri": "https://localhost:8080/"
        },
        "id": "4Bj7RsGIxlyN",
        "outputId": "a256f3c3-08f4-4c60-89f0-9f8c4772c07d"
      },
      "source": [
        "#Determine count of each EV car in 'Vehicle Name'\n",
        "ev_df_car_count = ev_df['Vehicle Name'].value_counts()\n",
        "print(ev_df_car_count.head(15))"
      ],
      "execution_count": 9,
      "outputs": [
        {
          "output_type": "stream",
          "text": [
            "Chevrolet Volt           349602\n",
            "Tesla Model 3            306928\n",
            "Tesla Model S            301845\n",
            "Nissan Leaf              231254\n",
            "Toyota Prius Plug-in     187338\n",
            "Ford Fusion Energi       136075\n",
            "Toyota Prius Prime       109236\n",
            "Tesla Model X             99285\n",
            "Chevrolet Bolt EV         95896\n",
            "Fiat 500e                 87449\n",
            "Ford C-Max Energi         84600\n",
            "BMW i3 REx                61679\n",
            "Volkswagen e-Golf         45446\n",
            "Honda Clarity Plug In     42504\n",
            "BMW 5-Series Plug in      29485\n",
            "Name: Vehicle Name, dtype: int64\n"
          ],
          "name": "stdout"
        }
      ]
    },
    {
      "cell_type": "code",
      "metadata": {
        "colab": {
          "base_uri": "https://localhost:8080/"
        },
        "id": "nvOp8orpx3uD",
        "outputId": "2b8d4f4e-1185-47f1-c923-6c55da841355"
      },
      "source": [
        "#Extract year from 'Registration Valid Date' column\n",
        "ev_df['year'] = pd.DatetimeIndex(ev_df['Registration Valid Date']).year\n",
        "print(ev_df['year'])"
      ],
      "execution_count": 10,
      "outputs": [
        {
          "output_type": "stream",
          "text": [
            "0          2011\n",
            "1          2011\n",
            "2          2011\n",
            "3          2011\n",
            "4          2011\n",
            "           ... \n",
            "2542438    2020\n",
            "2542439    2020\n",
            "2542440    2020\n",
            "2542441    2020\n",
            "2542442    2020\n",
            "Name: year, Length: 2542443, dtype: int64\n"
          ],
          "name": "stdout"
        }
      ]
    },
    {
      "cell_type": "code",
      "metadata": {
        "colab": {
          "base_uri": "https://localhost:8080/"
        },
        "id": "ler_QOzgx6kI",
        "outputId": "823f27e1-0ac8-4861-beff-d8c0783393c4"
      },
      "source": [
        "#Get frequecy of each car by year\n",
        "ev_df = ev_df.groupby(['Vehicle Name', 'year']).year.size().reset_index(name='count')\n",
        "print(ev_df)"
      ],
      "execution_count": 11,
      "outputs": [
        {
          "output_type": "stream",
          "text": [
            "           Vehicle Name  year  count\n",
            "0       Audi A3 Plug In  2020   5315\n",
            "1       Audi A7 Plug In  2020      2\n",
            "2       Audi A8 Plug In  2020     21\n",
            "3       Audi Q5 Plug In  2020   1629\n",
            "4           Audi e-tron  2019   1449\n",
            "..                  ...   ...    ...\n",
            "411  Volvo XC90 Plug In  2016    421\n",
            "412  Volvo XC90 Plug In  2017   1417\n",
            "413  Volvo XC90 Plug In  2018   1844\n",
            "414  Volvo XC90 Plug In  2019   2224\n",
            "415  Volvo XC90 Plug In  2020   3334\n",
            "\n",
            "[416 rows x 3 columns]\n"
          ],
          "name": "stdout"
        }
      ]
    },
    {
      "cell_type": "code",
      "metadata": {
        "colab": {
          "base_uri": "https://localhost:8080/"
        },
        "id": "DMuzhRYtUn8B",
        "outputId": "2709e5c6-250e-455e-9f94-d7bb52ee6c2e"
      },
      "source": [
        "#Sort by descending 'year'\n",
        "ev_df_sort = ev_df.sort_values(['year'], ascending=True)\n",
        "print(ev_df_sort)"
      ],
      "execution_count": 12,
      "outputs": [
        {
          "output_type": "stream",
          "text": [
            "                         Vehicle Name  year  count\n",
            "357                    Tesla Roadster  2010    431\n",
            "136                       Ford Ranger  2010     51\n",
            "259            Mini Hardtop 2 Door EV  2010    119\n",
            "368              Toyota Prius Plug-in  2010    153\n",
            "326                   Smart forTwo EV  2011     43\n",
            "..                                ...   ...    ...\n",
            "198                     Jaguar I-Pace  2020   1421\n",
            "195            Hyundai Sonata Plug In  2020   2005\n",
            "190             Hyundai Kona Electric  2020   3121\n",
            "248  Mercedes GLE 550e Plug In Hybrid  2020    505\n",
            "415                Volvo XC90 Plug In  2020   3334\n",
            "\n",
            "[416 rows x 3 columns]\n"
          ],
          "name": "stdout"
        }
      ]
    },
    {
      "cell_type": "code",
      "metadata": {
        "colab": {
          "base_uri": "https://localhost:8080/"
        },
        "id": "Q7jRMjr_M9BM",
        "outputId": "94788b74-efcb-4d59-a68b-ab91e16d039b"
      },
      "source": [
        "#Select top 10 ev cars with highest count\n",
        "ev_hi_reg = ev_df_sort.loc[ev_df_sort['Vehicle Name'].isin(['Chevrolet Volt', 'Tesla Model 3', 'Tesla Model S', 'Nissan Leaf', 'Toyota Prius Plug-in', \n",
        "                                      'Ford Fusion Energi', 'Toyota Prius Prime', 'Tesla Model X', 'Chevrolet Bolt EV', 'Fiat 500e'])]\n",
        "#print(ev_hi_reg)\n",
        "print(ev_hi_reg)"
      ],
      "execution_count": 13,
      "outputs": [
        {
          "output_type": "stream",
          "text": [
            "             Vehicle Name  year   count\n",
            "368  Toyota Prius Plug-in  2010     153\n",
            "282           Nissan Leaf  2011    3638\n",
            "369  Toyota Prius Plug-in  2011     162\n",
            "79         Chevrolet Volt  2011    1320\n",
            "342         Tesla Model S  2012      98\n",
            "..                    ...   ...     ...\n",
            "101             Fiat 500e  2020    8017\n",
            "88         Chevrolet Volt  2020   53743\n",
            "70      Chevrolet Bolt EV  2020   30601\n",
            "291           Nissan Leaf  2020   30113\n",
            "341         Tesla Model 3  2020  144311\n",
            "\n",
            "[73 rows x 3 columns]\n"
          ],
          "name": "stdout"
        }
      ]
    },
    {
      "cell_type": "code",
      "metadata": {
        "id": "b1-cxdf3X19s",
        "colab": {
          "base_uri": "https://localhost:8080/",
          "height": 877
        },
        "outputId": "f2d5508c-816c-466d-ed66-d33ec542aead"
      },
      "source": [
        "#Plot bar graph with count plot\n",
        "bar_dim = (16, 15)\n",
        "fig, ax = plt.subplots(figsize=bar_dim)\n",
        "ev_plot = sns.barplot(x='year', y='count', hue='Vehicle Name', data=ev_hi_reg)\n",
        "plt.show()"
      ],
      "execution_count": 29,
      "outputs": [
        {
          "output_type": "display_data",
          "data": {
            "image/png": "[encoded data removed]",
            "text/plain": [
              "<Figure size 1152x1080 with 1 Axes>"
            ]
          },
          "metadata": {
            "tags": [],
            "needs_background": "light"
          }
        }
      ]
    },
    {
      "cell_type": "code",
      "metadata": {
        "colab": {
          "base_uri": "https://localhost:8080/",
          "height": 548
        },
        "id": "PwLDBDcPLXur",
        "outputId": "4b4dee71-31ac-4f05-e766-8cf9a93da766"
      },
      "source": [
        "#We can see Toyota Prius Plug-in & Nissan were tied and remained unchanged afterwards and US manufacturers took the lead\n",
        "#Lets see the percentage change for each car\n",
        "\n",
        "#Get percent change for 'count' column for each vehicle and years\n",
        "ev_hi_reg['pct'] = ev_hi_reg['count'].pct_change()\n",
        "ev_hi_reg"
      ],
      "execution_count": 15,
      "outputs": [
        {
          "output_type": "stream",
          "text": [
            "/usr/local/lib/python3.7/dist-packages/ipykernel_launcher.py:5: SettingWithCopyWarning: \n",
            "A value is trying to be set on a copy of a slice from a DataFrame.\n",
            "Try using .loc[row_indexer,col_indexer] = value instead\n",
            "\n",
            "See the caveats in the documentation: https://pandas.pydata.org/pandas-docs/stable/user_guide/indexing.html#returning-a-view-versus-a-copy\n",
            "  \"\"\"\n"
          ],
          "name": "stderr"
        },
        {
          "output_type": "execute_result",
          "data": {
            "text/html": [
              "<div>\n",
              "<style scoped>\n",
              "    .dataframe tbody tr th:only-of-type {\n",
              "        vertical-align: middle;\n",
              "    }\n",
              "\n",
              "    .dataframe tbody tr th {\n",
              "        vertical-align: top;\n",
              "    }\n",
              "\n",
              "    .dataframe thead th {\n",
              "        text-align: right;\n",
              "    }\n",
              "</style>\n",
              "<table border=\"1\" class=\"dataframe\">\n",
              "  <thead>\n",
              "    <tr style=\"text-align: right;\">\n",
              "      <th></th>\n",
              "      <th>Vehicle Name</th>\n",
              "      <th>year</th>\n",
              "      <th>count</th>\n",
              "      <th>pct</th>\n",
              "    </tr>\n",
              "  </thead>\n",
              "  <tbody>\n",
              "    <tr>\n",
              "      <th>368</th>\n",
              "      <td>Toyota Prius Plug-in</td>\n",
              "      <td>2010</td>\n",
              "      <td>153</td>\n",
              "      <td>NaN</td>\n",
              "    </tr>\n",
              "    <tr>\n",
              "      <th>282</th>\n",
              "      <td>Nissan Leaf</td>\n",
              "      <td>2011</td>\n",
              "      <td>3638</td>\n",
              "      <td>22.777778</td>\n",
              "    </tr>\n",
              "    <tr>\n",
              "      <th>369</th>\n",
              "      <td>Toyota Prius Plug-in</td>\n",
              "      <td>2011</td>\n",
              "      <td>162</td>\n",
              "      <td>-0.955470</td>\n",
              "    </tr>\n",
              "    <tr>\n",
              "      <th>79</th>\n",
              "      <td>Chevrolet Volt</td>\n",
              "      <td>2011</td>\n",
              "      <td>1320</td>\n",
              "      <td>7.148148</td>\n",
              "    </tr>\n",
              "    <tr>\n",
              "      <th>342</th>\n",
              "      <td>Tesla Model S</td>\n",
              "      <td>2012</td>\n",
              "      <td>98</td>\n",
              "      <td>-0.925758</td>\n",
              "    </tr>\n",
              "    <tr>\n",
              "      <th>...</th>\n",
              "      <td>...</td>\n",
              "      <td>...</td>\n",
              "      <td>...</td>\n",
              "      <td>...</td>\n",
              "    </tr>\n",
              "    <tr>\n",
              "      <th>101</th>\n",
              "      <td>Fiat 500e</td>\n",
              "      <td>2020</td>\n",
              "      <td>8017</td>\n",
              "      <td>-0.689841</td>\n",
              "    </tr>\n",
              "    <tr>\n",
              "      <th>88</th>\n",
              "      <td>Chevrolet Volt</td>\n",
              "      <td>2020</td>\n",
              "      <td>53743</td>\n",
              "      <td>5.703630</td>\n",
              "    </tr>\n",
              "    <tr>\n",
              "      <th>70</th>\n",
              "      <td>Chevrolet Bolt EV</td>\n",
              "      <td>2020</td>\n",
              "      <td>30601</td>\n",
              "      <td>-0.430605</td>\n",
              "    </tr>\n",
              "    <tr>\n",
              "      <th>291</th>\n",
              "      <td>Nissan Leaf</td>\n",
              "      <td>2020</td>\n",
              "      <td>30113</td>\n",
              "      <td>-0.015947</td>\n",
              "    </tr>\n",
              "    <tr>\n",
              "      <th>341</th>\n",
              "      <td>Tesla Model 3</td>\n",
              "      <td>2020</td>\n",
              "      <td>144311</td>\n",
              "      <td>3.792316</td>\n",
              "    </tr>\n",
              "  </tbody>\n",
              "</table>\n",
              "<p>73 rows × 4 columns</p>\n",
              "</div>"
            ],
            "text/plain": [
              "             Vehicle Name  year   count        pct\n",
              "368  Toyota Prius Plug-in  2010     153        NaN\n",
              "282           Nissan Leaf  2011    3638  22.777778\n",
              "369  Toyota Prius Plug-in  2011     162  -0.955470\n",
              "79         Chevrolet Volt  2011    1320   7.148148\n",
              "342         Tesla Model S  2012      98  -0.925758\n",
              "..                    ...   ...     ...        ...\n",
              "101             Fiat 500e  2020    8017  -0.689841\n",
              "88         Chevrolet Volt  2020   53743   5.703630\n",
              "70      Chevrolet Bolt EV  2020   30601  -0.430605\n",
              "291           Nissan Leaf  2020   30113  -0.015947\n",
              "341         Tesla Model 3  2020  144311   3.792316\n",
              "\n",
              "[73 rows x 4 columns]"
            ]
          },
          "metadata": {
            "tags": []
          },
          "execution_count": 15
        }
      ]
    },
    {
      "cell_type": "code",
      "metadata": {
        "colab": {
          "base_uri": "https://localhost:8080/",
          "height": 987
        },
        "id": "wUDWM_69AbQq",
        "outputId": "5d5431b4-4d01-4587-e0dd-2eccec42318f"
      },
      "source": [
        "#Plot pct changes\n",
        "bar_dim = (15, 17)\n",
        "fig, ax = plt.subplots(figsize=bar_dim)\n",
        "ev_plot = sns.barplot(x='year', y='pct', hue='Vehicle Name', data=ev_hi_reg)\n",
        "plt.show()"
      ],
      "execution_count": 16,
      "outputs": [
        {
          "output_type": "display_data",
          "data": {
            "image/png": "[encoded data removed]",
            "text/plain": [
              "<Figure size 1080x1224 with 1 Axes>"
            ]
          },
          "metadata": {
            "tags": [],
            "needs_background": "light"
          }
        }
      ]
    },
    {
      "cell_type": "code",
      "metadata": {
        "colab": {
          "base_uri": "https://localhost:8080/"
        },
        "id": "84qHZd94HxEk",
        "outputId": "467aedb1-91a9-4a24-da0f-98fd75345f0a"
      },
      "source": [
        "#Select top 6 models in 2020 to make predictions on [Tesla Model 3, Tesla Model S, Chevrolet Volt, Ford Fusion Energi, Tesla Model X, Chevrolet Bolt EV]\n",
        "ev_reg_pred = ev_hi_reg.loc[ev_hi_reg['Vehicle Name'].isin(['Tesla Mode 3', 'Tesla Model S', 'Chevrolet Volt', \n",
        "                                                            'Ford Fusion Energi', 'Tesla Model X', 'Chevrolet Bolt EV'])]\n",
        "print(ev_reg_pred)"
      ],
      "execution_count": 17,
      "outputs": [
        {
          "output_type": "stream",
          "text": [
            "           Vehicle Name  year  count        pct\n",
            "79       Chevrolet Volt  2011   1320   7.148148\n",
            "342       Tesla Model S  2012     98  -0.925758\n",
            "80       Chevrolet Volt  2012   5712  57.285714\n",
            "128  Ford Fusion Energi  2013   1242  -0.789456\n",
            "81       Chevrolet Volt  2013  14775  10.896135\n",
            "343       Tesla Model S  2013   7291  -0.432386\n",
            "82       Chevrolet Volt  2014  23618   1.603395\n",
            "129  Ford Fusion Energi  2014   6661  -0.691948\n",
            "344       Tesla Model S  2014  13114   1.234833\n",
            "130  Ford Fusion Energi  2015  11415  -0.597369\n",
            "345       Tesla Model S  2015  22936  -0.115431\n",
            "83       Chevrolet Volt  2015  30807   0.343172\n",
            "346       Tesla Model S  2016  34343   0.114779\n",
            "351       Tesla Model X  2016   4680  -0.821238\n",
            "84       Chevrolet Volt  2016  41847   0.320345\n",
            "131  Ford Fusion Energi  2016  16987  -0.594069\n",
            "85       Chevrolet Volt  2017  54641   4.397708\n",
            "132  Ford Fusion Energi  2017  22221  -0.148098\n",
            "67    Chevrolet Bolt EV  2017  12545  -0.435444\n",
            "347       Tesla Model S  2017  47580   1.537871\n",
            "352       Tesla Model X  2017  12737  -0.612303\n",
            "353       Tesla Model X  2018  20993   0.648190\n",
            "348       Tesla Model S  2018  55816   0.074418\n",
            "86       Chevrolet Volt  2018  62616   0.121829\n",
            "133  Ford Fusion Energi  2018  24852  -0.603105\n",
            "68    Chevrolet Bolt EV  2018  22310   0.485056\n",
            "69    Chevrolet Bolt EV  2019  30440   0.364411\n",
            "349       Tesla Model S  2019  59798   0.964455\n",
            "354       Tesla Model X  2019  27347  -0.750918\n",
            "87       Chevrolet Volt  2019  60523   4.345610\n",
            "134  Ford Fusion Energi  2019  26849   0.077062\n",
            "350       Tesla Model S  2020  60869   0.926234\n",
            "355       Tesla Model X  2020  33528   0.423030\n",
            "135  Ford Fusion Energi  2020  25848  -0.365927\n",
            "88       Chevrolet Volt  2020  53743   5.703630\n",
            "70    Chevrolet Bolt EV  2020  30601  -0.430605\n"
          ],
          "name": "stdout"
        }
      ]
    },
    {
      "cell_type": "code",
      "metadata": {
        "colab": {
          "base_uri": "https://localhost:8080/"
        },
        "id": "5MQBN533B5WP",
        "outputId": "393553ba-a8f1-40f8-d12d-91d8980967f1"
      },
      "source": [
        "#Turn 'Vehicle Name' column into categorical variable using OneHot Encoder\n",
        "labelencoder = LabelEncoder()\n",
        "ev_reg_pred['Vehicle Name'] = labelencoder.fit_transform(ev_reg_pred['Vehicle Name'])\n",
        "print(ev_reg_pred)"
      ],
      "execution_count": 18,
      "outputs": [
        {
          "output_type": "stream",
          "text": [
            "     Vehicle Name  year  count        pct\n",
            "79              1  2011   1320   7.148148\n",
            "342             3  2012     98  -0.925758\n",
            "80              1  2012   5712  57.285714\n",
            "128             2  2013   1242  -0.789456\n",
            "81              1  2013  14775  10.896135\n",
            "343             3  2013   7291  -0.432386\n",
            "82              1  2014  23618   1.603395\n",
            "129             2  2014   6661  -0.691948\n",
            "344             3  2014  13114   1.234833\n",
            "130             2  2015  11415  -0.597369\n",
            "345             3  2015  22936  -0.115431\n",
            "83              1  2015  30807   0.343172\n",
            "346             3  2016  34343   0.114779\n",
            "351             4  2016   4680  -0.821238\n",
            "84              1  2016  41847   0.320345\n",
            "131             2  2016  16987  -0.594069\n",
            "85              1  2017  54641   4.397708\n",
            "132             2  2017  22221  -0.148098\n",
            "67              0  2017  12545  -0.435444\n",
            "347             3  2017  47580   1.537871\n",
            "352             4  2017  12737  -0.612303\n",
            "353             4  2018  20993   0.648190\n",
            "348             3  2018  55816   0.074418\n",
            "86              1  2018  62616   0.121829\n",
            "133             2  2018  24852  -0.603105\n",
            "68              0  2018  22310   0.485056\n",
            "69              0  2019  30440   0.364411\n",
            "349             3  2019  59798   0.964455\n",
            "354             4  2019  27347  -0.750918\n",
            "87              1  2019  60523   4.345610\n",
            "134             2  2019  26849   0.077062\n",
            "350             3  2020  60869   0.926234\n",
            "355             4  2020  33528   0.423030\n",
            "135             2  2020  25848  -0.365927\n",
            "88              1  2020  53743   5.703630\n",
            "70              0  2020  30601  -0.430605\n"
          ],
          "name": "stdout"
        },
        {
          "output_type": "stream",
          "text": [
            "/usr/local/lib/python3.7/dist-packages/ipykernel_launcher.py:3: SettingWithCopyWarning: \n",
            "A value is trying to be set on a copy of a slice from a DataFrame.\n",
            "Try using .loc[row_indexer,col_indexer] = value instead\n",
            "\n",
            "See the caveats in the documentation: https://pandas.pydata.org/pandas-docs/stable/user_guide/indexing.html#returning-a-view-versus-a-copy\n",
            "  This is separate from the ipykernel package so we can avoid doing imports until\n"
          ],
          "name": "stderr"
        }
      ]
    },
    {
      "cell_type": "code",
      "metadata": {
        "id": "fFQ7bB0mrd_Z"
      },
      "source": [
        "# Set feature (X) and target (y) variable\n",
        "X = ev_reg_pred.loc[:, 'Vehicle Name':'year']\n",
        "y = ev_reg_pred['count']"
      ],
      "execution_count": 19,
      "outputs": []
    },
    {
      "cell_type": "code",
      "metadata": {
        "id": "buhh26WktJjq"
      },
      "source": [
        "#Split data into 70:30 for train/test\n",
        "X_train, X_test, y_train, y_test = train_test_split(X, y, test_size=.4, random_state=42)"
      ],
      "execution_count": 20,
      "outputs": []
    },
    {
      "cell_type": "code",
      "metadata": {
        "colab": {
          "base_uri": "https://localhost:8080/"
        },
        "id": "iwrUOdLmudbz",
        "outputId": "30205f8d-210c-4963-a249-90a03cbaf10e"
      },
      "source": [
        "#Fit linear regression model to training set\n",
        "lr = LinearRegression()\n",
        "lr.fit(X_train, y_train)"
      ],
      "execution_count": 21,
      "outputs": [
        {
          "output_type": "execute_result",
          "data": {
            "text/plain": [
              "LinearRegression(copy_X=True, fit_intercept=True, n_jobs=None, normalize=False)"
            ]
          },
          "metadata": {
            "tags": []
          },
          "execution_count": 21
        }
      ]
    },
    {
      "cell_type": "code",
      "metadata": {
        "colab": {
          "base_uri": "https://localhost:8080/"
        },
        "id": "LfHMFSOXuqcW",
        "outputId": "49873e9a-c108-4227-cb58-68a80408e8ac"
      },
      "source": [
        "#Predict model\n",
        "y_pred = lr.predict(X_test)\n",
        "y_pred"
      ],
      "execution_count": 22,
      "outputs": [
        {
          "output_type": "execute_result",
          "data": {
            "text/plain": [
              "array([46328.21568379, 22778.37186248, 41452.31020232, 39429.1992546 ,\n",
              "       30688.94376553, 43293.54926221, 32530.18282541, 23789.92733634,\n",
              "       14038.11637341, 29677.38829167, 19925.57732874, 45316.66020993,\n",
              "        1433.51087673, 11185.32183966, 40440.75472846])"
            ]
          },
          "metadata": {
            "tags": []
          },
          "execution_count": 22
        }
      ]
    },
    {
      "cell_type": "code",
      "metadata": {
        "colab": {
          "base_uri": "https://localhost:8080/"
        },
        "id": "RS3-IJ0cvBmg",
        "outputId": "39453342-bc6b-4705-8095-9fbb843b6ecb"
      },
      "source": [
        "#Get accuracy of model\n",
        "pred_score = lr.score(X_test, y_test)\n",
        "pred_score"
      ],
      "execution_count": 23,
      "outputs": [
        {
          "output_type": "execute_result",
          "data": {
            "text/plain": [
              "0.5316674414776563"
            ]
          },
          "metadata": {
            "tags": []
          },
          "execution_count": 23
        }
      ]
    },
    {
      "cell_type": "code",
      "metadata": {
        "colab": {
          "base_uri": "https://localhost:8080/"
        },
        "id": "JU4CCQ0PvBxo",
        "outputId": "14d21b94-1f7d-43f7-b068-71acacb6d88d"
      },
      "source": [
        "#Insert into new column based on stacked predictions\n",
        "y_pred_train = lr.predict(X_train)\n",
        "y_pred_test = lr.predict(X_test)\n",
        "ev_reg_pred['count_pred'] = np.hstack([y_pred_train, y_pred_test])\n",
        "print(ev_reg_pred)"
      ],
      "execution_count": 24,
      "outputs": [
        {
          "output_type": "stream",
          "text": [
            "     Vehicle Name  year  count        pct    count_pred\n",
            "79              1  2011   1320   7.148148  24801.482810\n",
            "342             3  2012     98  -0.925758  28665.832818\n",
            "80              1  2012   5712  57.285714   9162.210892\n",
            "128             2  2013   1242  -0.789456  20937.132803\n",
            "81              1  2013  14775  10.896135   4286.305410\n",
            "343             3  2013   7291  -0.432386  34553.293773\n",
            "82              1  2014  23618   1.603395   6309.416358\n",
            "129             2  2014   6661  -0.691948  44305.104736\n",
            "344             3  2014  13114   1.234833  10173.766366\n",
            "130             2  2015  11415  -0.597369  42281.993788\n",
            "345             3  2015  22936  -0.115431  35564.849247\n",
            "83              1  2015  30807   0.343172  38417.643781\n",
            "346             3  2016  34343   0.114779  18914.021855\n",
            "351             4  2016   4680  -0.821238  33541.738299\n",
            "84              1  2016  41847   0.320345  31700.499239\n",
            "131             2  2016  16987  -0.594069  36576.404721\n",
            "85              1  2017  54641   4.397708  16061.227321\n",
            "132             2  2017  22221  -0.148098  27654.277344\n",
            "67              0  2017  12545  -0.435444  15049.671847\n",
            "347             3  2017  47580   1.537871  25813.038284\n",
            "352             4  2017  12737  -0.612303  37406.088307\n",
            "353             4  2018  20993   0.648190  46328.215684\n",
            "348             3  2018  55816   0.074418  22778.371862\n",
            "86              1  2018  62616   0.121829  41452.310202\n",
            "133             2  2018  24852  -0.603105  39429.199255\n",
            "68              0  2018  22310   0.485056  30688.943766\n",
            "69              0  2019  30440   0.364411  43293.549262\n",
            "349             3  2019  59798   0.964455  32530.182825\n",
            "354             4  2019  27347  -0.750918  23789.927336\n",
            "87              1  2019  60523   4.345610  14038.116373\n",
            "134             2  2019  26849   0.077062  29677.388292\n",
            "350             3  2020  60869   0.926234  19925.577329\n",
            "355             4  2020  33528   0.423030  45316.660210\n",
            "135             2  2020  25848  -0.365927   1433.510877\n",
            "88              1  2020  53743   5.703630  11185.321840\n",
            "70              0  2020  30601  -0.430605  40440.754728\n"
          ],
          "name": "stdout"
        },
        {
          "output_type": "stream",
          "text": [
            "/usr/local/lib/python3.7/dist-packages/ipykernel_launcher.py:4: SettingWithCopyWarning: \n",
            "A value is trying to be set on a copy of a slice from a DataFrame.\n",
            "Try using .loc[row_indexer,col_indexer] = value instead\n",
            "\n",
            "See the caveats in the documentation: https://pandas.pydata.org/pandas-docs/stable/user_guide/indexing.html#returning-a-view-versus-a-copy\n",
            "  after removing the cwd from sys.path.\n"
          ],
          "name": "stderr"
        }
      ]
    },
    {
      "cell_type": "code",
      "metadata": {
        "colab": {
          "base_uri": "https://localhost:8080/"
        },
        "id": "mW4VjYzQVrVz",
        "outputId": "f99cc809-e334-4bc3-adbe-02c7d49863ef"
      },
      "source": [
        "#Filter 'year' column by 2020 to see difference in predicted model\n",
        "ev_reg_pred_diff = ev_reg_pred.loc[ev_reg_pred['year'].isin(['2020'])]\n",
        "print(ev_reg_pred_diff)"
      ],
      "execution_count": 25,
      "outputs": [
        {
          "output_type": "stream",
          "text": [
            "     Vehicle Name  year  count       pct    count_pred\n",
            "350             3  2020  60869  0.926234  19925.577329\n",
            "355             4  2020  33528  0.423030  45316.660210\n",
            "135             2  2020  25848 -0.365927   1433.510877\n",
            "88              1  2020  53743  5.703630  11185.321840\n",
            "70              0  2020  30601 -0.430605  40440.754728\n"
          ],
          "name": "stdout"
        }
      ]
    },
    {
      "cell_type": "code",
      "metadata": {
        "colab": {
          "base_uri": "https://localhost:8080/"
        },
        "id": "bvfbsURYdFn4",
        "outputId": "ed090d86-dbec-4b18-bbd9-e086ac3cb82e"
      },
      "source": [
        "#Create 'year' column with 2021\n",
        "next_year = ['2021', '2021', '2021', '2021', '2021']\n",
        "ev_reg_pred_diff['pred_year'] = next_year\n",
        "print(ev_reg_pred_diff)"
      ],
      "execution_count": 26,
      "outputs": [
        {
          "output_type": "stream",
          "text": [
            "     Vehicle Name  year  count       pct    count_pred pred_year\n",
            "350             3  2020  60869  0.926234  19925.577329      2021\n",
            "355             4  2020  33528  0.423030  45316.660210      2021\n",
            "135             2  2020  25848 -0.365927   1433.510877      2021\n",
            "88              1  2020  53743  5.703630  11185.321840      2021\n",
            "70              0  2020  30601 -0.430605  40440.754728      2021\n"
          ],
          "name": "stdout"
        },
        {
          "output_type": "stream",
          "text": [
            "/usr/local/lib/python3.7/dist-packages/ipykernel_launcher.py:3: SettingWithCopyWarning: \n",
            "A value is trying to be set on a copy of a slice from a DataFrame.\n",
            "Try using .loc[row_indexer,col_indexer] = value instead\n",
            "\n",
            "See the caveats in the documentation: https://pandas.pydata.org/pandas-docs/stable/user_guide/indexing.html#returning-a-view-versus-a-copy\n",
            "  This is separate from the ipykernel package so we can avoid doing imports until\n"
          ],
          "name": "stderr"
        }
      ]
    },
    {
      "cell_type": "code",
      "metadata": {
        "colab": {
          "base_uri": "https://localhost:8080/",
          "height": 921
        },
        "id": "4-L9Xzz1a2Jv",
        "outputId": "78ffd0dc-f852-4d0c-fa48-a8a010d5c2c0"
      },
      "source": [
        "#Plot predictions\n",
        "bar_dim = (18, 17)\n",
        "fig, ax = plt.subplots(figsize=bar_dim)\n",
        "ev_pred_graph = sns.barplot(x='pred_year', y='count_pred', hue='Vehicle Name', data=ev_reg_pred_diff)\n",
        "plt.show()"
      ],
      "execution_count": 27,
      "outputs": [
        {
          "output_type": "display_data",
          "data": {
            "image/png": "[encoded data removed]",
            "text/plain": [
              "<Figure size 1296x1224 with 1 Axes>"
            ]
          },
          "metadata": {
            "tags": [],
            "needs_background": "light"
          }
        }
      ]
    },
    {
      "cell_type": "code",
      "metadata": {
        "id": "mhactssygZiQ"
      },
      "source": [
        "#Based on our Linear Regression Model, it predicted Tesla Model X to the highest register count followed by Chevrolet Bolt EV with Ford Fusion Energi having least register count. "
      ],
      "execution_count": 28,
      "outputs": []
    }
  ]
}
